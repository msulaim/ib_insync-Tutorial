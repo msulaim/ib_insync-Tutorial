{
 "cells": [
  {
   "cell_type": "markdown",
   "metadata": {},
   "source": [
    "### 🆕 Buying Stocks on Margins\n",
    "\n",
    "- **Purpose**:\n",
    "    - Create a function that goes through every position in portfolio and calculates if we were to close the position how much our margin would change for both: *Initial and Maintenance*\n",
    "    - Sort the values as well\n",
    "    \n",
    "- **Initial Approach**:✅\n",
    "    - Using `whatIfOrder(contract, order)` we can retrieve commission and margin impact without actually placing the order.\n",
    "\n",
    "        - In order to create a `contract` for each position, we can use the Portfolio that we created and extract the Ticker, Quantity, Exchange for Stocks, Ticker, Quantity, Expiry, Exchange, Right, Strike for Options, the contract will either of type `Stock` or `Option`✅\n",
    "\n",
    "        - We can then `qualify` the contract✅\n",
    "        - In order to create a order we can create an object of class `Order` , the Order has the following attributes:✅\n",
    "            - *action*: Sell or Buy\n",
    "            - *orderType*: MKT, LMT etc\n",
    "            - *totalQuantity*: Integer\n",
    "            - *whatIf*: True or False\n",
    "\n",
    "    - ` whatIfOrder(contract, order)` returns `OrderState` we are interested in the following attributes: *initMarginChange , maintMarginChange* ✅\n",
    "        - Other attributes include:\n",
    "        *status, initMarginBefore, maintMarginBefore, equityWithLoanBefore, initMarginChange, maintMarginChange,  equityWithLoanChange, initMarginAfter, maintMarginAfter, equityWithLoanAfter, commission, minCommission, maxCommission, commissionCurrency, warningText, completedTime, completedStatus*\n"
   ]
  },
  {
   "cell_type": "code",
   "execution_count": 1,
   "metadata": {},
   "outputs": [],
   "source": [
    "#Import results from portfolio.ipynb\n",
    "%store -r df_stocks\n",
    "%store -r df_options"
   ]
  },
  {
   "cell_type": "code",
   "execution_count": 2,
   "metadata": {},
   "outputs": [
    {
     "name": "stdout",
     "output_type": "stream",
     "text": [
      "<IB connected to 127.0.0.1:7497 clientId=0>\n"
     ]
    }
   ],
   "source": [
    "import numpy as np\n",
    "import pandas as pd\n",
    "\n",
    "#Import ib_insync library\n",
    "from ib_insync import *\n",
    "\n",
    "#Only used in interactive environments such as Jupyter Notebooks\n",
    "util.startLoop()\n",
    "\n",
    "#Instantiate IB class and use .connect() method on it, if TWS is not running ConnectionRefusedError will be raised\n",
    "ib = IB()\n",
    "try:\n",
    "    print(ib.connect(clientId=0))\n",
    "except:\n",
    "    pass"
   ]
  },
  {
   "cell_type": "code",
   "execution_count": 3,
   "metadata": {},
   "outputs": [],
   "source": [
    "qualified_stock_contracts = qualified_option_contracts = []\n",
    "df_stock_orders = df_option_orders = pd.DataFrame()\n",
    "\n",
    "#Drop totals row from dataframes\n",
    "df_stocks.drop(df_stocks.tail(1).index,inplace=True)\n",
    "df_options.drop(df_options.tail(1).index,inplace=True)\n",
    "\n",
    "#Convert all conIds to Contracts\n",
    "if df_stocks['ConId'].isnull().values.any() == False:\n",
    "    \n",
    "    \n",
    "    #Convert ConId to integers\n",
    "    df_stocks['ConId'] = df_stocks['ConId'].astype(int)\n",
    "    \n",
    "    #Create a Contract using the conId, Ticker, and security type\n",
    "    df_stock_contracts = df_stocks.apply(lambda x: Contract(conId = x['ConId'], symbol=x['Ticker'], secType='STK'),axis=1)\n",
    "    \n",
    "    #Qualify all contracts in both portfolio\n",
    "    qualified_stock_contracts = ib.qualifyContracts(*df_stock_contracts.values)\n",
    "    \n",
    "    #Create Order for each contract\n",
    "    df_stock_orders = df_stocks.apply(lambda x: Order(action='SELL', orderType='MKT', totalQuantity=x['Qty']),axis=1)\n",
    "    \n"
   ]
  },
  {
   "cell_type": "code",
   "execution_count": 4,
   "metadata": {},
   "outputs": [],
   "source": [
    "if df_options['ConId'].isnull().values.any() == False:\n",
    "    \n",
    "    #Convert ConId to integers\n",
    "    df_options['ConId'] = df_options['ConId'].astype(int)\n",
    "    \n",
    "    #Create a Contract using the conId, Ticker, and security type\n",
    "    df_option_contracts = df_options.apply(lambda x: Contract(conId = x['ConId'], symbol=x['Ticker'], secType='OPT', lastTradeDateOrContractMonth=x['Expiry'], strike=x['Strike'], right=x['Type']),axis=1)\n",
    "    \n",
    "    #Qualify all contracts in both portfolio\n",
    "    qualified_option_contracts = ib.qualifyContracts(*df_option_contracts.values)\n",
    "    \n",
    "    #Create Order for each contract\n",
    "    df_option_orders = df_options.apply(lambda x: Order(action='SELL', orderType='MKT', totalQuantity=x['Qty']),axis=1)\n",
    "\n"
   ]
  },
  {
   "cell_type": "code",
   "execution_count": 5,
   "metadata": {},
   "outputs": [],
   "source": [
    "#Iterate over the qualified contracts and orders, pass both in whatif() to get margin details for both stocks and options\n",
    "stock_initial_margin_changes = []\n",
    "stock_maint_margin_changes = []\n",
    "option_initial_margin_changes = []\n",
    "option_maint_margin_changes = []\n",
    "\n",
    "#Pass through try and except block, if whatif successful append initiial margins and maintanenece margin, if unsuccessful continue code and append nan\n",
    "for stock_contract, stock_order in zip(qualified_stock_contracts, df_stock_orders.values):\n",
    "    try:\n",
    "        stock_order_status = (ib.whatIfOrder(stock_contract, stock_order))\n",
    "    except:\n",
    "        pass\n",
    "    \n",
    "    try:\n",
    "        stock_initial_margin_changes.append(float(stock_order_status.initMarginChange))\n",
    "    except:\n",
    "        stock_initial_margin_changes.append(np.nan)\n",
    "        pass\n",
    "        \n",
    "    try:\n",
    "        stock_maint_margin_changes.append(float(stock_order_status.maintMarginChange))\n",
    "    except:\n",
    "        stock_maint_margin_changes.append(np.nan)\n",
    "        pass\n",
    "        \n",
    "\n"
   ]
  },
  {
   "cell_type": "code",
   "execution_count": 6,
   "metadata": {},
   "outputs": [],
   "source": [
    "#Pass through try and except block, if whatif successful append initiial margins and maintanenece margin, if unsuccessful continue code and append nan\n",
    "for option_contract, option_order in zip(qualified_option_contracts, df_option_orders.values):\n",
    "    try:\n",
    "        option_order_status = (ib.whatIfOrder(option_contract, option_order))\n",
    "    except:\n",
    "        pass\n",
    "    \n",
    "    try:\n",
    "        option_initial_margin_changes.append(float(option_order_status.initMarginChange))\n",
    "    except: \n",
    "        option_initial_margin_changes.append(np.nan)\n",
    "        pass\n",
    "    \n",
    "    try:\n",
    "        option_maint_margin_changes.append(float(option_order_status.maintMarginChange))\n",
    "    except:\n",
    "        option_maint_margin_changes.append(np.nan)\n",
    "        pass\n"
   ]
  },
  {
   "cell_type": "code",
   "execution_count": 7,
   "metadata": {},
   "outputs": [],
   "source": [
    "if len(option_initial_margin_changes) == 0 and len(option_maint_margin_changes) == 0  :\n",
    "    option_initial_margin_changes.append(np.nan)\n",
    "    option_maint_margin_changes.append(np.nan)\n",
    "    \n",
    "if len(stock_initial_margin_changes) == 0 and len(stock_maint_margin_changes) == 0:\n",
    "    stock_initial_margin_changes.append(np.nan)\n",
    "    stock_maint_margin_changes.append(np.nan)\n"
   ]
  },
  {
   "cell_type": "code",
   "execution_count": 8,
   "metadata": {},
   "outputs": [],
   "source": [
    "#Create columns for margin changes\n",
    "df_stocks['Initial Margin Change'] = stock_initial_margin_changes\n",
    "df_stocks['Maintenance Margin Change'] = stock_maint_margin_changes\n",
    "df_stocks = df_stocks.sort_values(by=['Initial Margin Change', 'Maintenance Margin Change'])\n",
    "\n",
    "df_options['Initial Margin Change'] = option_initial_margin_changes\n",
    "df_options['Maintenance Margin Change'] = option_maint_margin_changes\n",
    "df_options = df_options.sort_values(by=['Initial Margin Change', 'Maintenance Margin Change'])"
   ]
  },
  {
   "cell_type": "code",
   "execution_count": 9,
   "metadata": {
    "scrolled": true
   },
   "outputs": [
    {
     "data": {
      "text/html": [
       "<style  type=\"text/css\" >\n",
       "</style><table id=\"T_9414a1b2_b349_11eb_9a28_5076af4e7748\" ><caption>Stocks Margins Portfolio</caption><thead>    <tr>        <th class=\"blank level0\" ></th>        <th class=\"col_heading level0 col0\" >Ticker</th>        <th class=\"col_heading level0 col1\" >Exchange</th>        <th class=\"col_heading level0 col2\" >ConId</th>        <th class=\"col_heading level0 col3\" >Qty</th>        <th class=\"col_heading level0 col4\" >Market Price</th>        <th class=\"col_heading level0 col5\" >Cost Price</th>        <th class=\"col_heading level0 col6\" >P&L</th>        <th class=\"col_heading level0 col7\" >Total Market Value</th>        <th class=\"col_heading level0 col8\" >% Market Value</th>        <th class=\"col_heading level0 col9\" >Initial Margin Change</th>        <th class=\"col_heading level0 col10\" >Maintenance Margin Change</th>    </tr></thead><tbody>\n",
       "                <tr>\n",
       "                        <th id=\"T_9414a1b2_b349_11eb_9a28_5076af4e7748level0_row0\" class=\"row_heading level0 row0\" >2</th>\n",
       "                        <td id=\"T_9414a1b2_b349_11eb_9a28_5076af4e7748row0_col0\" class=\"data row0 col0\" >QQQ</td>\n",
       "                        <td id=\"T_9414a1b2_b349_11eb_9a28_5076af4e7748row0_col1\" class=\"data row0 col1\" >NASDAQ</td>\n",
       "                        <td id=\"T_9414a1b2_b349_11eb_9a28_5076af4e7748row0_col2\" class=\"data row0 col2\" >320227571</td>\n",
       "                        <td id=\"T_9414a1b2_b349_11eb_9a28_5076af4e7748row0_col3\" class=\"data row0 col3\" >5.000000</td>\n",
       "                        <td id=\"T_9414a1b2_b349_11eb_9a28_5076af4e7748row0_col4\" class=\"data row0 col4\" >318.630005</td>\n",
       "                        <td id=\"T_9414a1b2_b349_11eb_9a28_5076af4e7748row0_col5\" class=\"data row0 col5\" >327.358660</td>\n",
       "                        <td id=\"T_9414a1b2_b349_11eb_9a28_5076af4e7748row0_col6\" class=\"data row0 col6\" >-43.640000</td>\n",
       "                        <td id=\"T_9414a1b2_b349_11eb_9a28_5076af4e7748row0_col7\" class=\"data row0 col7\" >1593.150000</td>\n",
       "                        <td id=\"T_9414a1b2_b349_11eb_9a28_5076af4e7748row0_col8\" class=\"data row0 col8\" >0.160860</td>\n",
       "                        <td id=\"T_9414a1b2_b349_11eb_9a28_5076af4e7748row0_col9\" class=\"data row0 col9\" >-397.190000</td>\n",
       "                        <td id=\"T_9414a1b2_b349_11eb_9a28_5076af4e7748row0_col10\" class=\"data row0 col10\" >-397.190000</td>\n",
       "            </tr>\n",
       "            <tr>\n",
       "                        <th id=\"T_9414a1b2_b349_11eb_9a28_5076af4e7748level0_row1\" class=\"row_heading level0 row1\" >4</th>\n",
       "                        <td id=\"T_9414a1b2_b349_11eb_9a28_5076af4e7748row1_col0\" class=\"data row1 col0\" >SHOP</td>\n",
       "                        <td id=\"T_9414a1b2_b349_11eb_9a28_5076af4e7748row1_col1\" class=\"data row1 col1\" >NYSE</td>\n",
       "                        <td id=\"T_9414a1b2_b349_11eb_9a28_5076af4e7748row1_col2\" class=\"data row1 col2\" >195014116</td>\n",
       "                        <td id=\"T_9414a1b2_b349_11eb_9a28_5076af4e7748row1_col3\" class=\"data row1 col3\" >1.000000</td>\n",
       "                        <td id=\"T_9414a1b2_b349_11eb_9a28_5076af4e7748row1_col4\" class=\"data row1 col4\" >1086.071411</td>\n",
       "                        <td id=\"T_9414a1b2_b349_11eb_9a28_5076af4e7748row1_col5\" class=\"data row1 col5\" >1175.233500</td>\n",
       "                        <td id=\"T_9414a1b2_b349_11eb_9a28_5076af4e7748row1_col6\" class=\"data row1 col6\" >-89.160000</td>\n",
       "                        <td id=\"T_9414a1b2_b349_11eb_9a28_5076af4e7748row1_col7\" class=\"data row1 col7\" >1086.070000</td>\n",
       "                        <td id=\"T_9414a1b2_b349_11eb_9a28_5076af4e7748row1_col8\" class=\"data row1 col8\" >0.109661</td>\n",
       "                        <td id=\"T_9414a1b2_b349_11eb_9a28_5076af4e7748row1_col9\" class=\"data row1 col9\" >-269.800000</td>\n",
       "                        <td id=\"T_9414a1b2_b349_11eb_9a28_5076af4e7748row1_col10\" class=\"data row1 col10\" >-269.800000</td>\n",
       "            </tr>\n",
       "            <tr>\n",
       "                        <th id=\"T_9414a1b2_b349_11eb_9a28_5076af4e7748level0_row2\" class=\"row_heading level0 row2\" >1</th>\n",
       "                        <td id=\"T_9414a1b2_b349_11eb_9a28_5076af4e7748row2_col0\" class=\"data row2 col0\" >FB</td>\n",
       "                        <td id=\"T_9414a1b2_b349_11eb_9a28_5076af4e7748row2_col1\" class=\"data row2 col1\" >NASDAQ</td>\n",
       "                        <td id=\"T_9414a1b2_b349_11eb_9a28_5076af4e7748row2_col2\" class=\"data row2 col2\" >107113386</td>\n",
       "                        <td id=\"T_9414a1b2_b349_11eb_9a28_5076af4e7748row2_col3\" class=\"data row2 col3\" >1.000000</td>\n",
       "                        <td id=\"T_9414a1b2_b349_11eb_9a28_5076af4e7748row2_col4\" class=\"data row2 col4\" >300.851532</td>\n",
       "                        <td id=\"T_9414a1b2_b349_11eb_9a28_5076af4e7748row2_col5\" class=\"data row2 col5\" >309.188400</td>\n",
       "                        <td id=\"T_9414a1b2_b349_11eb_9a28_5076af4e7748row2_col6\" class=\"data row2 col6\" >-8.340000</td>\n",
       "                        <td id=\"T_9414a1b2_b349_11eb_9a28_5076af4e7748row2_col7\" class=\"data row2 col7\" >300.850000</td>\n",
       "                        <td id=\"T_9414a1b2_b349_11eb_9a28_5076af4e7748row2_col8\" class=\"data row2 col8\" >0.030377</td>\n",
       "                        <td id=\"T_9414a1b2_b349_11eb_9a28_5076af4e7748row2_col9\" class=\"data row2 col9\" >-75.180000</td>\n",
       "                        <td id=\"T_9414a1b2_b349_11eb_9a28_5076af4e7748row2_col10\" class=\"data row2 col10\" >-75.180000</td>\n",
       "            </tr>\n",
       "            <tr>\n",
       "                        <th id=\"T_9414a1b2_b349_11eb_9a28_5076af4e7748level0_row3\" class=\"row_heading level0 row3\" >0</th>\n",
       "                        <td id=\"T_9414a1b2_b349_11eb_9a28_5076af4e7748row3_col0\" class=\"data row3 col0\" >AAPL</td>\n",
       "                        <td id=\"T_9414a1b2_b349_11eb_9a28_5076af4e7748row3_col1\" class=\"data row3 col1\" >NASDAQ</td>\n",
       "                        <td id=\"T_9414a1b2_b349_11eb_9a28_5076af4e7748row3_col2\" class=\"data row3 col2\" >265598</td>\n",
       "                        <td id=\"T_9414a1b2_b349_11eb_9a28_5076af4e7748row3_col3\" class=\"data row3 col3\" >1.000000</td>\n",
       "                        <td id=\"T_9414a1b2_b349_11eb_9a28_5076af4e7748row3_col4\" class=\"data row3 col4\" >123.096001</td>\n",
       "                        <td id=\"T_9414a1b2_b349_11eb_9a28_5076af4e7748row3_col5\" class=\"data row3 col5\" >126.883300</td>\n",
       "                        <td id=\"T_9414a1b2_b349_11eb_9a28_5076af4e7748row3_col6\" class=\"data row3 col6\" >-3.790000</td>\n",
       "                        <td id=\"T_9414a1b2_b349_11eb_9a28_5076af4e7748row3_col7\" class=\"data row3 col7\" >123.100000</td>\n",
       "                        <td id=\"T_9414a1b2_b349_11eb_9a28_5076af4e7748row3_col8\" class=\"data row3 col8\" >0.012429</td>\n",
       "                        <td id=\"T_9414a1b2_b349_11eb_9a28_5076af4e7748row3_col9\" class=\"data row3 col9\" >-30.710000</td>\n",
       "                        <td id=\"T_9414a1b2_b349_11eb_9a28_5076af4e7748row3_col10\" class=\"data row3 col10\" >-30.710000</td>\n",
       "            </tr>\n",
       "    </tbody></table>"
      ],
      "text/plain": [
       "<pandas.io.formats.style.Styler at 0x21b6e397580>"
      ]
     },
     "metadata": {},
     "output_type": "display_data"
    },
    {
     "data": {
      "text/html": [
       "<style  type=\"text/css\" >\n",
       "</style><table id=\"T_94158c00_b349_11eb_8358_5076af4e7748\" ><caption>Options Margins Portfolio</caption><thead>    <tr>        <th class=\"blank level0\" ></th>        <th class=\"col_heading level0 col0\" >Ticker</th>        <th class=\"col_heading level0 col1\" >Exchange</th>        <th class=\"col_heading level0 col2\" >ConId</th>        <th class=\"col_heading level0 col3\" >Qty</th>        <th class=\"col_heading level0 col4\" >Market Price</th>        <th class=\"col_heading level0 col5\" >Cost Price</th>        <th class=\"col_heading level0 col6\" >P&L</th>        <th class=\"col_heading level0 col7\" >Total Market Value</th>        <th class=\"col_heading level0 col8\" >% Market Value</th>        <th class=\"col_heading level0 col9\" >Underlying Equity Market Price</th>        <th class=\"col_heading level0 col10\" >Type</th>        <th class=\"col_heading level0 col11\" >Strike</th>        <th class=\"col_heading level0 col12\" >Expiry</th>        <th class=\"col_heading level0 col13\" >Total Market Value Post Expiry</th>        <th class=\"col_heading level0 col14\" >Excercised/Expired</th>        <th class=\"col_heading level0 col15\" >Initial Margin Change</th>        <th class=\"col_heading level0 col16\" >Maintenance Margin Change</th>    </tr></thead><tbody>\n",
       "                <tr>\n",
       "                        <th id=\"T_94158c00_b349_11eb_8358_5076af4e7748level0_row0\" class=\"row_heading level0 row0\" >3</th>\n",
       "                        <td id=\"T_94158c00_b349_11eb_8358_5076af4e7748row0_col0\" class=\"data row0 col0\" >QQQ</td>\n",
       "                        <td id=\"T_94158c00_b349_11eb_8358_5076af4e7748row0_col1\" class=\"data row0 col1\" >AMEX</td>\n",
       "                        <td id=\"T_94158c00_b349_11eb_8358_5076af4e7748row0_col2\" class=\"data row0 col2\" >489017427</td>\n",
       "                        <td id=\"T_94158c00_b349_11eb_8358_5076af4e7748row0_col3\" class=\"data row0 col3\" >1.000000</td>\n",
       "                        <td id=\"T_94158c00_b349_11eb_8358_5076af4e7748row0_col4\" class=\"data row0 col4\" >3.987987</td>\n",
       "                        <td id=\"T_94158c00_b349_11eb_8358_5076af4e7748row0_col5\" class=\"data row0 col5\" >185.452800</td>\n",
       "                        <td id=\"T_94158c00_b349_11eb_8358_5076af4e7748row0_col6\" class=\"data row0 col6\" >213.350000</td>\n",
       "                        <td id=\"T_94158c00_b349_11eb_8358_5076af4e7748row0_col7\" class=\"data row0 col7\" >3.987987</td>\n",
       "                        <td id=\"T_94158c00_b349_11eb_8358_5076af4e7748row0_col8\" class=\"data row0 col8\" >0.000403</td>\n",
       "                        <td id=\"T_94158c00_b349_11eb_8358_5076af4e7748row0_col9\" class=\"data row0 col9\" >318.579987</td>\n",
       "                        <td id=\"T_94158c00_b349_11eb_8358_5076af4e7748row0_col10\" class=\"data row0 col10\" >P</td>\n",
       "                        <td id=\"T_94158c00_b349_11eb_8358_5076af4e7748row0_col11\" class=\"data row0 col11\" >318.000000</td>\n",
       "                        <td id=\"T_94158c00_b349_11eb_8358_5076af4e7748row0_col12\" class=\"data row0 col12\" >2021-05-17 00:00:00</td>\n",
       "                        <td id=\"T_94158c00_b349_11eb_8358_5076af4e7748row0_col13\" class=\"data row0 col13\" >0.000000</td>\n",
       "                        <td id=\"T_94158c00_b349_11eb_8358_5076af4e7748row0_col14\" class=\"data row0 col14\" >Expired</td>\n",
       "                        <td id=\"T_94158c00_b349_11eb_8358_5076af4e7748row0_col15\" class=\"data row0 col15\" >0.000000</td>\n",
       "                        <td id=\"T_94158c00_b349_11eb_8358_5076af4e7748row0_col16\" class=\"data row0 col16\" >0.000000</td>\n",
       "            </tr>\n",
       "            <tr>\n",
       "                        <th id=\"T_94158c00_b349_11eb_8358_5076af4e7748level0_row1\" class=\"row_heading level0 row1\" >5</th>\n",
       "                        <td id=\"T_94158c00_b349_11eb_8358_5076af4e7748row1_col0\" class=\"data row1 col0\" >SHOP</td>\n",
       "                        <td id=\"T_94158c00_b349_11eb_8358_5076af4e7748row1_col1\" class=\"data row1 col1\" >AMEX</td>\n",
       "                        <td id=\"T_94158c00_b349_11eb_8358_5076af4e7748row1_col2\" class=\"data row1 col2\" >477641804</td>\n",
       "                        <td id=\"T_94158c00_b349_11eb_8358_5076af4e7748row1_col3\" class=\"data row1 col3\" >4.000000</td>\n",
       "                        <td id=\"T_94158c00_b349_11eb_8358_5076af4e7748row1_col4\" class=\"data row1 col4\" >33.215237</td>\n",
       "                        <td id=\"T_94158c00_b349_11eb_8358_5076af4e7748row1_col5\" class=\"data row1 col5\" >4151.670300</td>\n",
       "                        <td id=\"T_94158c00_b349_11eb_8358_5076af4e7748row1_col6\" class=\"data row1 col6\" >-3320.590000</td>\n",
       "                        <td id=\"T_94158c00_b349_11eb_8358_5076af4e7748row1_col7\" class=\"data row1 col7\" >132.860947</td>\n",
       "                        <td id=\"T_94158c00_b349_11eb_8358_5076af4e7748row1_col8\" class=\"data row1 col8\" >0.013415</td>\n",
       "                        <td id=\"T_94158c00_b349_11eb_8358_5076af4e7748row1_col9\" class=\"data row1 col9\" >1085.795044</td>\n",
       "                        <td id=\"T_94158c00_b349_11eb_8358_5076af4e7748row1_col10\" class=\"data row1 col10\" >C</td>\n",
       "                        <td id=\"T_94158c00_b349_11eb_8358_5076af4e7748row1_col11\" class=\"data row1 col11\" >1095.000000</td>\n",
       "                        <td id=\"T_94158c00_b349_11eb_8358_5076af4e7748row1_col12\" class=\"data row1 col12\" >2021-05-21 00:00:00</td>\n",
       "                        <td id=\"T_94158c00_b349_11eb_8358_5076af4e7748row1_col13\" class=\"data row1 col13\" >0.000000</td>\n",
       "                        <td id=\"T_94158c00_b349_11eb_8358_5076af4e7748row1_col14\" class=\"data row1 col14\" >Expired</td>\n",
       "                        <td id=\"T_94158c00_b349_11eb_8358_5076af4e7748row1_col15\" class=\"data row1 col15\" >0.000000</td>\n",
       "                        <td id=\"T_94158c00_b349_11eb_8358_5076af4e7748row1_col16\" class=\"data row1 col16\" >0.000000</td>\n",
       "            </tr>\n",
       "            <tr>\n",
       "                        <th id=\"T_94158c00_b349_11eb_8358_5076af4e7748level0_row2\" class=\"row_heading level0 row2\" >6</th>\n",
       "                        <td id=\"T_94158c00_b349_11eb_8358_5076af4e7748row2_col0\" class=\"data row2 col0\" >SHOP</td>\n",
       "                        <td id=\"T_94158c00_b349_11eb_8358_5076af4e7748row2_col1\" class=\"data row2 col1\" >AMEX</td>\n",
       "                        <td id=\"T_94158c00_b349_11eb_8358_5076af4e7748row2_col2\" class=\"data row2 col2\" >477642257</td>\n",
       "                        <td id=\"T_94158c00_b349_11eb_8358_5076af4e7748row2_col3\" class=\"data row2 col3\" >3.000000</td>\n",
       "                        <td id=\"T_94158c00_b349_11eb_8358_5076af4e7748row2_col4\" class=\"data row2 col4\" >42.077919</td>\n",
       "                        <td id=\"T_94158c00_b349_11eb_8358_5076af4e7748row2_col5\" class=\"data row2 col5\" >4511.582800</td>\n",
       "                        <td id=\"T_94158c00_b349_11eb_8358_5076af4e7748row2_col6\" class=\"data row2 col6\" >-911.370000</td>\n",
       "                        <td id=\"T_94158c00_b349_11eb_8358_5076af4e7748row2_col7\" class=\"data row2 col7\" >126.233757</td>\n",
       "                        <td id=\"T_94158c00_b349_11eb_8358_5076af4e7748row2_col8\" class=\"data row2 col8\" >0.012746</td>\n",
       "                        <td id=\"T_94158c00_b349_11eb_8358_5076af4e7748row2_col9\" class=\"data row2 col9\" >1085.795044</td>\n",
       "                        <td id=\"T_94158c00_b349_11eb_8358_5076af4e7748row2_col10\" class=\"data row2 col10\" >P</td>\n",
       "                        <td id=\"T_94158c00_b349_11eb_8358_5076af4e7748row2_col11\" class=\"data row2 col11\" >1095.000000</td>\n",
       "                        <td id=\"T_94158c00_b349_11eb_8358_5076af4e7748row2_col12\" class=\"data row2 col12\" >2021-05-21 00:00:00</td>\n",
       "                        <td id=\"T_94158c00_b349_11eb_8358_5076af4e7748row2_col13\" class=\"data row2 col13\" >2761.486816</td>\n",
       "                        <td id=\"T_94158c00_b349_11eb_8358_5076af4e7748row2_col14\" class=\"data row2 col14\" >Excercised</td>\n",
       "                        <td id=\"T_94158c00_b349_11eb_8358_5076af4e7748row2_col15\" class=\"data row2 col15\" >0.000000</td>\n",
       "                        <td id=\"T_94158c00_b349_11eb_8358_5076af4e7748row2_col16\" class=\"data row2 col16\" >0.000000</td>\n",
       "            </tr>\n",
       "    </tbody></table>"
      ],
      "text/plain": [
       "<pandas.io.formats.style.Styler at 0x21b6e3975e0>"
      ]
     },
     "metadata": {},
     "output_type": "display_data"
    }
   ],
   "source": [
    "#Display results\n",
    "display(df_stocks.style.set_caption(\"Stocks Margins Portfolio\"))\n",
    "\n",
    "display(df_options.style.set_caption(\"Options Margins Portfolio\"))"
   ]
  },
  {
   "cell_type": "code",
   "execution_count": 10,
   "metadata": {},
   "outputs": [],
   "source": [
    "ib.disconnect()"
   ]
  },
  {
   "cell_type": "code",
   "execution_count": null,
   "metadata": {},
   "outputs": [],
   "source": []
  }
 ],
 "metadata": {
  "kernelspec": {
   "display_name": "Python 3",
   "language": "python",
   "name": "python3"
  },
  "language_info": {
   "codemirror_mode": {
    "name": "ipython",
    "version": 3
   },
   "file_extension": ".py",
   "mimetype": "text/x-python",
   "name": "python",
   "nbconvert_exporter": "python",
   "pygments_lexer": "ipython3",
   "version": "3.8.3"
  }
 },
 "nbformat": 4,
 "nbformat_minor": 4
}
