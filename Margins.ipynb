{
 "cells": [
  {
   "cell_type": "markdown",
   "metadata": {},
   "source": [
    "### 🆕 Buying Stocks on Margins\n",
    "\n",
    "- **Purpose**:\n",
    "    - Create a function that goes through every position in portfolio and calculates if we were to close the position how much our margin would change for both: *Initial and Maintenance*\n",
    "    - Sort the values as well\n",
    "    \n",
    "- **Initial Approach**:✅\n",
    "    - Using `whatIfOrder(contract, order)` we can retrieve commission and margin impact without actually placing the order.\n",
    "\n",
    "        - In order to create a `contract` for each position, we can use the Portfolio that we created and extract the Ticker, Quantity, Exchange for Stocks, Ticker, Quantity, Expiry, Exchange, Right, Strike for Options, the contract will either of type `Stock` or `Option`✅\n",
    "\n",
    "        - We can then `qualify` the contract✅\n",
    "        - In order to create a order we can create an object of class `Order` , the Order has the following attributes:✅\n",
    "            - *action*: Sell or Buy\n",
    "            - *orderType*: MKT, LMT etc\n",
    "            - *totalQuantity*: Integer\n",
    "            - *whatIf*: True or False\n",
    "\n",
    "    - ` whatIfOrder(contract, order)` returns `OrderState` we are interested in the following attributes: *initMarginChange , maintMarginChange* ✅\n",
    "        - Other attributes include:\n",
    "        *status, initMarginBefore, maintMarginBefore, equityWithLoanBefore, initMarginChange, maintMarginChange,  equityWithLoanChange, initMarginAfter, maintMarginAfter, equityWithLoanAfter, commission, minCommission, maxCommission, commissionCurrency, warningText, completedTime, completedStatus*\n"
   ]
  },
  {
   "cell_type": "code",
   "execution_count": 1,
   "metadata": {},
   "outputs": [],
   "source": [
    "#Import results from portfolio.ipynb\n",
    "%store -r df_stocks\n",
    "%store -r df_options\n",
    "%store -r df_total"
   ]
  },
  {
   "cell_type": "code",
   "execution_count": 2,
   "metadata": {},
   "outputs": [
    {
     "name": "stdout",
     "output_type": "stream",
     "text": [
      "<IB connected to 127.0.0.1:7497 clientId=0>\n"
     ]
    }
   ],
   "source": [
    "import numpy as np\n",
    "import pandas as pd\n",
    "\n",
    "#Import ib_insync library\n",
    "from ib_insync import *\n",
    "\n",
    "#Only used in interactive environments such as Jupyter Notebooks\n",
    "util.startLoop()\n",
    "\n",
    "#Instantiate IB class and use .connect() method on it, if TWS is not running ConnectionRefusedError will be raised\n",
    "ib = IB()\n",
    "try:\n",
    "    print(ib.connect(clientId=0))\n",
    "except:\n",
    "    pass"
   ]
  },
  {
   "cell_type": "code",
   "execution_count": 3,
   "metadata": {},
   "outputs": [],
   "source": [
    "qualified_stock_contracts = qualified_option_contracts = []\n",
    "df_stock_orders = df_option_orders = pd.DataFrame()\n",
    "\n",
    "#Drop totals row from dataframes\n",
    "df_stocks.drop(df_stocks.tail(1).index,inplace=True)\n",
    "df_options.drop(df_options.tail(1).index,inplace=True)\n",
    "\n",
    "#Convert all conIds to Contracts\n",
    "if df_stocks['ConId'].isnull().values.any() == False:\n",
    "    #Drop totals row from dataframe\n",
    "    \n",
    "    \n",
    "    #Convert ConId to integers\n",
    "    df_stocks['ConId'] = df_stocks['ConId'].astype(int)\n",
    "    \n",
    "    #Create a Contract using the conId, Ticker, and security type\n",
    "    df_stock_contracts = df_stocks.apply(lambda x: Contract(conId = x['ConId'], symbol=x['Ticker'], secType='STK'),axis=1)\n",
    "    \n",
    "    #Qualify all contracts in both portfolio\n",
    "    qualified_stock_contracts = ib.qualifyContracts(*df_stock_contracts.values)\n",
    "    \n",
    "    #Create Order for each contract\n",
    "    df_stock_orders = df_stocks.apply(lambda x: Order(action='SELL', orderType='MKT', totalQuantity=x['Qty']),axis=1)\n",
    "    \n",
    "if df_options['ConId'].isnull().values.any() == False:\n",
    "    #Drop totals row from dataframe\n",
    "    df_options.drop(df_options.tail(1).index,inplace=True)\n",
    "    display(df_options)\n",
    "    \n",
    "    #Convert ConId to integers\n",
    "    df_options['ConId'] = df_options['ConId'].astype(int)\n",
    "    \n",
    "    #Create a Contract using the conId, Ticker, and security type\n",
    "    df_option_contracts = df_options.apply(lambda x: Contract(conId = x['ConId'], symbol=x['Ticker'], secType='OPT', lastTradeDateOrContractMonth=x['Expiry'], strike=x['Strike'], right=x['Type']),axis=1)\n",
    "    \n",
    "    #Qualify all contracts in both portfolio\n",
    "    qualified_option_contracts = ib.qualifyContracts(*df_option_contracts.values)\n",
    "    \n",
    "    #Create Order for each contract\n",
    "    df_option_orders = df_options.apply(lambda x: Order(action='SELL', orderType='MKT', totalQuantity=x['Qty']),axis=1)\n",
    "\n"
   ]
  },
  {
   "cell_type": "code",
   "execution_count": 4,
   "metadata": {},
   "outputs": [],
   "source": [
    "#Iterate over the qualified contracts and orders, pass both in whatif() to get margin details for both stocks and options\n",
    "stock_initial_margin_changes = []\n",
    "stock_maint_margin_changes = []\n",
    "option_initial_margin_changes = []\n",
    "option_maint_margin_changes = []\n",
    "\n",
    "for stock_contract, stock_order in zip(qualified_stock_contracts, df_stock_orders.values):\n",
    "    stock_order_status = (ib.whatIfOrder(stock_contract, stock_order))\n",
    "    stock_initial_margin_changes.append(float(stock_order_status.initMarginChange))\n",
    "    stock_maint_margin_changes.append(float(stock_order_status.maintMarginChange))\n",
    "\n",
    "for option_contract, option_order in zip(qualified_option_contracts, df_option_orders.values):\n",
    "    option_order_status = (ib.whatIfOrder(option_contract, option_order))\n",
    "    option_initial_margin_changes.append(float(option_order_status.initMarginChange))\n",
    "    option_maint_margin_changes.append(float(option_order_status.maintMarginChange))\n",
    "    \n",
    "if len(option_initial_margin_changes) == 0 and len(option_maint_margin_changes) == 0  :\n",
    "    option_initial_margin_changes.append(np.nan)\n",
    "    option_maint_margin_changes.append(np.nan)\n",
    "    \n",
    "if len(stock_initial_margin_changes) == 0 and len(stock_maint_margin_changes) == 0:\n",
    "    stock_initial_margin_changes.append(np.nan)\n",
    "    stock_maint_margin_changes.append(np.nan)\n"
   ]
  },
  {
   "cell_type": "code",
   "execution_count": 5,
   "metadata": {},
   "outputs": [],
   "source": [
    "#Create columns for margin changes\n",
    "df_stocks['Initial Margin Change'] = stock_initial_margin_changes\n",
    "df_stocks['Maintenance Margin Change'] = stock_maint_margin_changes\n",
    "df_stocks = df_stocks.sort_values(by=['Initial Margin Change', 'Maintenance Margin Change'])\n",
    "\n",
    "df_options['Initial Margin Change'] = option_initial_margin_changes\n",
    "df_options['Maintenance Margin Change'] = option_maint_margin_changes\n",
    "df_options = df_options.sort_values(by=['Initial Margin Change', 'Maintenance Margin Change'])"
   ]
  },
  {
   "cell_type": "code",
   "execution_count": 6,
   "metadata": {
    "scrolled": true
   },
   "outputs": [
    {
     "data": {
      "text/html": [
       "<style  type=\"text/css\" >\n",
       "</style><table id=\"T_3241d1f4_a444_11eb_8ba3_5076af4e7748\" ><caption>Stocks Margins Portfolio</caption><thead>    <tr>        <th class=\"blank level0\" ></th>        <th class=\"col_heading level0 col0\" >Ticker</th>        <th class=\"col_heading level0 col1\" >Exchange</th>        <th class=\"col_heading level0 col2\" >ConId</th>        <th class=\"col_heading level0 col3\" >Qty</th>        <th class=\"col_heading level0 col4\" >Market Price</th>        <th class=\"col_heading level0 col5\" >Cost Price</th>        <th class=\"col_heading level0 col6\" >P&L</th>        <th class=\"col_heading level0 col7\" >Total Market Value</th>        <th class=\"col_heading level0 col8\" >% Market Value</th>        <th class=\"col_heading level0 col9\" >Initial Margin Change</th>        <th class=\"col_heading level0 col10\" >Maintenance Margin Change</th>    </tr></thead><tbody>\n",
       "                <tr>\n",
       "                        <th id=\"T_3241d1f4_a444_11eb_8ba3_5076af4e7748level0_row0\" class=\"row_heading level0 row0\" >2</th>\n",
       "                        <td id=\"T_3241d1f4_a444_11eb_8ba3_5076af4e7748row0_col0\" class=\"data row0 col0\" >QQQ</td>\n",
       "                        <td id=\"T_3241d1f4_a444_11eb_8ba3_5076af4e7748row0_col1\" class=\"data row0 col1\" >NASDAQ</td>\n",
       "                        <td id=\"T_3241d1f4_a444_11eb_8ba3_5076af4e7748row0_col2\" class=\"data row0 col2\" >320227571</td>\n",
       "                        <td id=\"T_3241d1f4_a444_11eb_8ba3_5076af4e7748row0_col3\" class=\"data row0 col3\" >5.000000</td>\n",
       "                        <td id=\"T_3241d1f4_a444_11eb_8ba3_5076af4e7748row0_col4\" class=\"data row0 col4\" >335.890015</td>\n",
       "                        <td id=\"T_3241d1f4_a444_11eb_8ba3_5076af4e7748row0_col5\" class=\"data row0 col5\" >327.358651</td>\n",
       "                        <td id=\"T_3241d1f4_a444_11eb_8ba3_5076af4e7748row0_col6\" class=\"data row0 col6\" >42.660000</td>\n",
       "                        <td id=\"T_3241d1f4_a444_11eb_8ba3_5076af4e7748row0_col7\" class=\"data row0 col7\" >1679.450000</td>\n",
       "                        <td id=\"T_3241d1f4_a444_11eb_8ba3_5076af4e7748row0_col8\" class=\"data row0 col8\" >52.208068</td>\n",
       "                        <td id=\"T_3241d1f4_a444_11eb_8ba3_5076af4e7748row0_col9\" class=\"data row0 col9\" >-422.380000</td>\n",
       "                        <td id=\"T_3241d1f4_a444_11eb_8ba3_5076af4e7748row0_col10\" class=\"data row0 col10\" >-422.380000</td>\n",
       "            </tr>\n",
       "            <tr>\n",
       "                        <th id=\"T_3241d1f4_a444_11eb_8ba3_5076af4e7748level0_row1\" class=\"row_heading level0 row1\" >3</th>\n",
       "                        <td id=\"T_3241d1f4_a444_11eb_8ba3_5076af4e7748row1_col0\" class=\"data row1 col0\" >SHOP</td>\n",
       "                        <td id=\"T_3241d1f4_a444_11eb_8ba3_5076af4e7748row1_col1\" class=\"data row1 col1\" >NYSE</td>\n",
       "                        <td id=\"T_3241d1f4_a444_11eb_8ba3_5076af4e7748row1_col2\" class=\"data row1 col2\" >195014116</td>\n",
       "                        <td id=\"T_3241d1f4_a444_11eb_8ba3_5076af4e7748row1_col3\" class=\"data row1 col3\" >1.000000</td>\n",
       "                        <td id=\"T_3241d1f4_a444_11eb_8ba3_5076af4e7748row1_col4\" class=\"data row1 col4\" >1106.599976</td>\n",
       "                        <td id=\"T_3241d1f4_a444_11eb_8ba3_5076af4e7748row1_col5\" class=\"data row1 col5\" >1175.233457</td>\n",
       "                        <td id=\"T_3241d1f4_a444_11eb_8ba3_5076af4e7748row1_col6\" class=\"data row1 col6\" >-68.630000</td>\n",
       "                        <td id=\"T_3241d1f4_a444_11eb_8ba3_5076af4e7748row1_col7\" class=\"data row1 col7\" >1106.600000</td>\n",
       "                        <td id=\"T_3241d1f4_a444_11eb_8ba3_5076af4e7748row1_col8\" class=\"data row1 col8\" >34.400219</td>\n",
       "                        <td id=\"T_3241d1f4_a444_11eb_8ba3_5076af4e7748row1_col9\" class=\"data row1 col9\" >-274.660000</td>\n",
       "                        <td id=\"T_3241d1f4_a444_11eb_8ba3_5076af4e7748row1_col10\" class=\"data row1 col10\" >-274.660000</td>\n",
       "            </tr>\n",
       "            <tr>\n",
       "                        <th id=\"T_3241d1f4_a444_11eb_8ba3_5076af4e7748level0_row2\" class=\"row_heading level0 row2\" >1</th>\n",
       "                        <td id=\"T_3241d1f4_a444_11eb_8ba3_5076af4e7748row2_col0\" class=\"data row2 col0\" >FB</td>\n",
       "                        <td id=\"T_3241d1f4_a444_11eb_8ba3_5076af4e7748row2_col1\" class=\"data row2 col1\" >NASDAQ</td>\n",
       "                        <td id=\"T_3241d1f4_a444_11eb_8ba3_5076af4e7748row2_col2\" class=\"data row2 col2\" >107113386</td>\n",
       "                        <td id=\"T_3241d1f4_a444_11eb_8ba3_5076af4e7748row2_col3\" class=\"data row2 col3\" >1.000000</td>\n",
       "                        <td id=\"T_3241d1f4_a444_11eb_8ba3_5076af4e7748row2_col4\" class=\"data row2 col4\" >298.500000</td>\n",
       "                        <td id=\"T_3241d1f4_a444_11eb_8ba3_5076af4e7748row2_col5\" class=\"data row2 col5\" >309.188357</td>\n",
       "                        <td id=\"T_3241d1f4_a444_11eb_8ba3_5076af4e7748row2_col6\" class=\"data row2 col6\" >-10.690000</td>\n",
       "                        <td id=\"T_3241d1f4_a444_11eb_8ba3_5076af4e7748row2_col7\" class=\"data row2 col7\" >298.500000</td>\n",
       "                        <td id=\"T_3241d1f4_a444_11eb_8ba3_5076af4e7748row2_col8\" class=\"data row2 col8\" >9.279293</td>\n",
       "                        <td id=\"T_3241d1f4_a444_11eb_8ba3_5076af4e7748row2_col9\" class=\"data row2 col9\" >-74.720000</td>\n",
       "                        <td id=\"T_3241d1f4_a444_11eb_8ba3_5076af4e7748row2_col10\" class=\"data row2 col10\" >-74.720000</td>\n",
       "            </tr>\n",
       "            <tr>\n",
       "                        <th id=\"T_3241d1f4_a444_11eb_8ba3_5076af4e7748level0_row3\" class=\"row_heading level0 row3\" >0</th>\n",
       "                        <td id=\"T_3241d1f4_a444_11eb_8ba3_5076af4e7748row3_col0\" class=\"data row3 col0\" >AAPL</td>\n",
       "                        <td id=\"T_3241d1f4_a444_11eb_8ba3_5076af4e7748row3_col1\" class=\"data row3 col1\" >NASDAQ</td>\n",
       "                        <td id=\"T_3241d1f4_a444_11eb_8ba3_5076af4e7748row3_col2\" class=\"data row3 col2\" >265598</td>\n",
       "                        <td id=\"T_3241d1f4_a444_11eb_8ba3_5076af4e7748row3_col3\" class=\"data row3 col3\" >1.000000</td>\n",
       "                        <td id=\"T_3241d1f4_a444_11eb_8ba3_5076af4e7748row3_col4\" class=\"data row3 col4\" >132.289993</td>\n",
       "                        <td id=\"T_3241d1f4_a444_11eb_8ba3_5076af4e7748row3_col5\" class=\"data row3 col5\" >126.883257</td>\n",
       "                        <td id=\"T_3241d1f4_a444_11eb_8ba3_5076af4e7748row3_col6\" class=\"data row3 col6\" >5.410000</td>\n",
       "                        <td id=\"T_3241d1f4_a444_11eb_8ba3_5076af4e7748row3_col7\" class=\"data row3 col7\" >132.290000</td>\n",
       "                        <td id=\"T_3241d1f4_a444_11eb_8ba3_5076af4e7748row3_col8\" class=\"data row3 col8\" >4.112421</td>\n",
       "                        <td id=\"T_3241d1f4_a444_11eb_8ba3_5076af4e7748row3_col9\" class=\"data row3 col9\" >-33.410000</td>\n",
       "                        <td id=\"T_3241d1f4_a444_11eb_8ba3_5076af4e7748row3_col10\" class=\"data row3 col10\" >-33.410000</td>\n",
       "            </tr>\n",
       "    </tbody></table>"
      ],
      "text/plain": [
       "<pandas.io.formats.style.Styler at 0x11b4f744880>"
      ]
     },
     "metadata": {},
     "output_type": "display_data"
    },
    {
     "data": {
      "text/html": [
       "<style  type=\"text/css\" >\n",
       "</style><table id=\"T_3242bb1e_a444_11eb_ba90_5076af4e7748\" ><caption>Options Margins Portfolio</caption><thead>    <tr>        <th class=\"blank level0\" ></th>        <th class=\"col_heading level0 col0\" >Ticker</th>        <th class=\"col_heading level0 col1\" >Exchange</th>        <th class=\"col_heading level0 col2\" >ConId</th>        <th class=\"col_heading level0 col3\" >Qty</th>        <th class=\"col_heading level0 col4\" >Market Price</th>        <th class=\"col_heading level0 col5\" >Cost Price</th>        <th class=\"col_heading level0 col6\" >P&L</th>        <th class=\"col_heading level0 col7\" >Total Market Value</th>        <th class=\"col_heading level0 col8\" >% Market Value</th>        <th class=\"col_heading level0 col9\" >Initial Margin Change</th>        <th class=\"col_heading level0 col10\" >Maintenance Margin Change</th>    </tr></thead><tbody>\n",
       "                <tr>\n",
       "                        <th id=\"T_3242bb1e_a444_11eb_ba90_5076af4e7748level0_row0\" class=\"row_heading level0 row0\" >0</th>\n",
       "                        <td id=\"T_3242bb1e_a444_11eb_ba90_5076af4e7748row0_col0\" class=\"data row0 col0\" >nan</td>\n",
       "                        <td id=\"T_3242bb1e_a444_11eb_ba90_5076af4e7748row0_col1\" class=\"data row0 col1\" >nan</td>\n",
       "                        <td id=\"T_3242bb1e_a444_11eb_ba90_5076af4e7748row0_col2\" class=\"data row0 col2\" >nan</td>\n",
       "                        <td id=\"T_3242bb1e_a444_11eb_ba90_5076af4e7748row0_col3\" class=\"data row0 col3\" >nan</td>\n",
       "                        <td id=\"T_3242bb1e_a444_11eb_ba90_5076af4e7748row0_col4\" class=\"data row0 col4\" >nan</td>\n",
       "                        <td id=\"T_3242bb1e_a444_11eb_ba90_5076af4e7748row0_col5\" class=\"data row0 col5\" >nan</td>\n",
       "                        <td id=\"T_3242bb1e_a444_11eb_ba90_5076af4e7748row0_col6\" class=\"data row0 col6\" >nan</td>\n",
       "                        <td id=\"T_3242bb1e_a444_11eb_ba90_5076af4e7748row0_col7\" class=\"data row0 col7\" >nan</td>\n",
       "                        <td id=\"T_3242bb1e_a444_11eb_ba90_5076af4e7748row0_col8\" class=\"data row0 col8\" >nan</td>\n",
       "                        <td id=\"T_3242bb1e_a444_11eb_ba90_5076af4e7748row0_col9\" class=\"data row0 col9\" >nan</td>\n",
       "                        <td id=\"T_3242bb1e_a444_11eb_ba90_5076af4e7748row0_col10\" class=\"data row0 col10\" >nan</td>\n",
       "            </tr>\n",
       "    </tbody></table>"
      ],
      "text/plain": [
       "<pandas.io.formats.style.Styler at 0x11b4f744be0>"
      ]
     },
     "metadata": {},
     "output_type": "display_data"
    }
   ],
   "source": [
    "#Display results\n",
    "display(df_stocks.style.set_caption(\"Stocks Margins Portfolio\"))\n",
    "\n",
    "display(df_options.style.set_caption(\"Options Margins Portfolio\"))"
   ]
  },
  {
   "cell_type": "code",
   "execution_count": 7,
   "metadata": {},
   "outputs": [],
   "source": [
    "ib.disconnect()"
   ]
  }
 ],
 "metadata": {
  "kernelspec": {
   "display_name": "Python 3",
   "language": "python",
   "name": "python3"
  },
  "language_info": {
   "codemirror_mode": {
    "name": "ipython",
    "version": 3
   },
   "file_extension": ".py",
   "mimetype": "text/x-python",
   "name": "python",
   "nbconvert_exporter": "python",
   "pygments_lexer": "ipython3",
   "version": "3.8.3"
  }
 },
 "nbformat": 4,
 "nbformat_minor": 4
}
