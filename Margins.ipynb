{
 "cells": [
  {
   "cell_type": "markdown",
   "metadata": {},
   "source": [
    "### 🆕 Buying Stocks on Margins\n",
    "\n",
    "- **Purpose**:\n",
    "    - Create a function that goes through every position in portfolio and calculates if we were to close the position how much our margin would change for both: *Initial and Maintenance*\n",
    "    - Sort the values as well\n",
    "    \n",
    "- **Initial Approach**:✅\n",
    "    - Using `whatIfOrder(contract, order)` we can retrieve commission and margin impact without actually placing the order.\n",
    "\n",
    "        - In order to create a `contract` for each position, we can use the Portfolio that we created and extract the Ticker, Quantity, Exchange for Stocks, Ticker, Quantity, Expiry, Exchange, Right, Strike for Options, the contract will either of type `Stock` or `Option`✅\n",
    "\n",
    "        - We can then `qualify` the contract✅\n",
    "        - In order to create a order we can create an object of class `Order` , the Order has the following attributes:✅\n",
    "            - *action*: Sell or Buy\n",
    "            - *orderType*: MKT, LMT etc\n",
    "            - *totalQuantity*: Integer\n",
    "            - *whatIf*: True or False\n",
    "\n",
    "    - ` whatIfOrder(contract, order)` returns `OrderState` we are interested in the following attributes: *initMarginChange , maintMarginChange* ✅\n",
    "        - Other attributes include:\n",
    "        *status, initMarginBefore, maintMarginBefore, equityWithLoanBefore, initMarginChange, maintMarginChange,  equityWithLoanChange, initMarginAfter, maintMarginAfter, equityWithLoanAfter, commission, minCommission, maxCommission, commissionCurrency, warningText, completedTime, completedStatus*\n"
   ]
  },
  {
   "cell_type": "code",
   "execution_count": null,
   "metadata": {},
   "outputs": [],
   "source": [
    "#Import results from portfolio.ipynb\n",
    "%store -r df_stocks\n",
    "%store -r df_options"
   ]
  },
  {
   "cell_type": "code",
   "execution_count": null,
   "metadata": {},
   "outputs": [],
   "source": [
    "import numpy as np\n",
    "import pandas as pd\n",
    "\n",
    "#Import ib_insync library\n",
    "from ib_insync import *\n",
    "\n",
    "#Only used in interactive environments such as Jupyter Notebooks\n",
    "util.startLoop()\n",
    "\n",
    "#Instantiate IB class and use .connect() method on it, if TWS is not running ConnectionRefusedError will be raised\n",
    "ib = IB()\n",
    "try:\n",
    "    print(ib.connect(clientId=0))\n",
    "except:\n",
    "    pass"
   ]
  },
  {
   "cell_type": "code",
   "execution_count": null,
   "metadata": {},
   "outputs": [],
   "source": [
    "qualified_stock_contracts = qualified_option_contracts = []\n",
    "df_stock_orders = df_option_orders = pd.DataFrame()\n",
    "\n",
    "#Drop totals row from dataframes\n",
    "df_stocks.drop(df_stocks.tail(1).index,inplace=True)\n",
    "df_options.drop(df_options.tail(1).index,inplace=True)\n",
    "\n",
    "#Convert all conIds to Contracts\n",
    "if df_stocks['ConId'].isnull().values.any() == False:\n",
    "    \n",
    "    \n",
    "    #Convert ConId to integers\n",
    "    df_stocks['ConId'] = df_stocks['ConId'].astype(int)\n",
    "    \n",
    "    #Create a Contract using the conId, Ticker, and security type\n",
    "    df_stock_contracts = df_stocks.apply(lambda x: Contract(conId = x['ConId'], symbol=x['Ticker'], secType='STK'),axis=1)\n",
    "    \n",
    "    #Qualify all contracts in both portfolio\n",
    "    qualified_stock_contracts = ib.qualifyContracts(*df_stock_contracts.values)\n",
    "    \n",
    "    #Create Order for each contract\n",
    "    df_stock_orders = df_stocks.apply(lambda x: Order(action='SELL', orderType='MKT', totalQuantity=x['Qty']),axis=1)\n",
    "    \n"
   ]
  },
  {
   "cell_type": "code",
   "execution_count": null,
   "metadata": {},
   "outputs": [],
   "source": [
    "if df_options['ConId'].isnull().values.any() == False:\n",
    "    \n",
    "    #Convert ConId to integers\n",
    "    df_options['ConId'] = df_options['ConId'].astype(int)\n",
    "    \n",
    "    #Create a Contract using the conId, Ticker, and security type\n",
    "    df_option_contracts = df_options.apply(lambda x: Contract(conId = x['ConId'], symbol=x['Ticker'], secType='OPT', lastTradeDateOrContractMonth=x['Expiry'], strike=x['Strike'], right=x['Type']),axis=1)\n",
    "    \n",
    "    #Qualify all contracts in both portfolio\n",
    "    qualified_option_contracts = ib.qualifyContracts(*df_option_contracts.values)\n",
    "    \n",
    "    #Create Order for each contract\n",
    "    df_option_orders = df_options.apply(lambda x: Order(action='SELL', orderType='MKT', totalQuantity=x['Qty']),axis=1)\n",
    "\n"
   ]
  },
  {
   "cell_type": "code",
   "execution_count": null,
   "metadata": {},
   "outputs": [],
   "source": [
    "#Iterate over the qualified contracts and orders, pass both in whatif() to get margin details for both stocks and options\n",
    "stock_initial_margin_changes = []\n",
    "stock_maint_margin_changes = []\n",
    "option_initial_margin_changes = []\n",
    "option_maint_margin_changes = []\n",
    "\n",
    "#Pass through try and except block, if whatif successful append initiial margins and maintanenece margin, if unsuccessful continue code and append nan\n",
    "for stock_contract, stock_order in zip(qualified_stock_contracts, df_stock_orders.values):\n",
    "    try:\n",
    "        stock_order_status = (ib.whatIfOrder(stock_contract, stock_order))\n",
    "    except:\n",
    "        pass\n",
    "    \n",
    "    try:\n",
    "        stock_initial_margin_changes.append(float(stock_order_status.initMarginChange))\n",
    "    except:\n",
    "        stock_initial_margin_changes.append(np.nan)\n",
    "        pass\n",
    "        \n",
    "    try:\n",
    "        stock_maint_margin_changes.append(float(stock_order_status.maintMarginChange))\n",
    "    except:\n",
    "        stock_maint_margin_changes.append(np.nan)\n",
    "        pass\n",
    "        \n",
    "\n"
   ]
  },
  {
   "cell_type": "code",
   "execution_count": null,
   "metadata": {},
   "outputs": [],
   "source": [
    "#Pass through try and except block, if whatif successful append initiial margins and maintanenece margin, if unsuccessful continue code and append nan\n",
    "for option_contract, option_order in zip(qualified_option_contracts, df_option_orders.values):\n",
    "    try:\n",
    "        option_order_status = (ib.whatIfOrder(option_contract, option_order))\n",
    "    except:\n",
    "        pass\n",
    "    \n",
    "    try:\n",
    "        option_initial_margin_changes.append(float(option_order_status.initMarginChange))\n",
    "    except: \n",
    "        option_initial_margin_changes.append(np.nan)\n",
    "        pass\n",
    "    \n",
    "    try:\n",
    "        option_maint_margin_changes.append(float(option_order_status.maintMarginChange))\n",
    "    except:\n",
    "        option_maint_margin_changes.append(np.nan)\n",
    "        pass\n"
   ]
  },
  {
   "cell_type": "code",
   "execution_count": null,
   "metadata": {},
   "outputs": [],
   "source": [
    "if len(option_initial_margin_changes) == 0 and len(option_maint_margin_changes) == 0  :\n",
    "    option_initial_margin_changes.append(np.nan)\n",
    "    option_maint_margin_changes.append(np.nan)\n",
    "    \n",
    "if len(stock_initial_margin_changes) == 0 and len(stock_maint_margin_changes) == 0:\n",
    "    stock_initial_margin_changes.append(np.nan)\n",
    "    stock_maint_margin_changes.append(np.nan)\n"
   ]
  },
  {
   "cell_type": "code",
   "execution_count": null,
   "metadata": {},
   "outputs": [],
   "source": [
    "#Create columns for margin changes\n",
    "df_stocks['Initial Margin Change'] = stock_initial_margin_changes\n",
    "df_stocks['Maintenance Margin Change'] = stock_maint_margin_changes\n",
    "df_stocks = df_stocks.sort_values(by=['Initial Margin Change', 'Maintenance Margin Change'])\n",
    "\n",
    "df_options['Initial Margin Change'] = option_initial_margin_changes\n",
    "df_options['Maintenance Margin Change'] = option_maint_margin_changes\n",
    "df_options = df_options.sort_values(by=['Initial Margin Change', 'Maintenance Margin Change'])"
   ]
  },
  {
   "cell_type": "code",
   "execution_count": null,
   "metadata": {
    "scrolled": true
   },
   "outputs": [],
   "source": [
    "#Display results\n",
    "display(df_stocks.style.set_caption(\"Stocks Margins Portfolio\"))\n",
    "\n",
    "display(df_options.style.set_caption(\"Options Margins Portfolio\"))"
   ]
  },
  {
   "cell_type": "code",
   "execution_count": null,
   "metadata": {},
   "outputs": [],
   "source": [
    "ib.disconnect()"
   ]
  },
  {
   "cell_type": "code",
   "execution_count": null,
   "metadata": {},
   "outputs": [],
   "source": []
  }
 ],
 "metadata": {
  "kernelspec": {
   "display_name": "Python 3",
   "language": "python",
   "name": "python3"
  },
  "language_info": {
   "codemirror_mode": {
    "name": "ipython",
    "version": 3
   },
   "file_extension": ".py",
   "mimetype": "text/x-python",
   "name": "python",
   "nbconvert_exporter": "python",
   "pygments_lexer": "ipython3",
   "version": "3.8.3"
  }
 },
 "nbformat": 4,
 "nbformat_minor": 4
}
